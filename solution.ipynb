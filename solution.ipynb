{
 "cells": [
  {
   "cell_type": "markdown",
   "metadata": {},
   "source": [
    "# Challenge 1 - Most Profiting Authors"
   ]
  },
  {
   "cell_type": "code",
   "execution_count": 2,
   "metadata": {
    "ExecuteTime": {
     "end_time": "2020-01-24T23:42:20.764294Z",
     "start_time": "2020-01-24T23:42:20.752193Z"
    }
   },
   "outputs": [],
   "source": [
    "import os\n",
    "os.environ[\"GOOGLE_APPLICATION_CREDENTIALS\"]=\"./ironhack_service_account_big_query.json\"\n",
    "import six\n",
    "six.moves.reload_module(six)\n",
    "from google.cloud import bigquery\n",
    "client = bigquery.Client()"
   ]
  },
  {
   "cell_type": "code",
   "execution_count": 109,
   "metadata": {
    "ExecuteTime": {
     "end_time": "2020-01-25T01:49:56.314088Z",
     "start_time": "2020-01-25T01:49:56.309960Z"
    }
   },
   "outputs": [],
   "source": [
    "sql=\"\"\"\n",
    "SELECT\n",
    "    A.au_id,\n",
    "    A.au_lname, \n",
    "    A.au_fname,\n",
    "    IFNULL(SUM(ROYALTYTA*TA.royaltyper/100),0) AS ROYALTY,\n",
    "    IFNULL(SUM(T.advance*TA.royaltyper/100),0) AS ADVANCE,  \n",
    "    IFNULL(SUM(ROYALTYTA*TA.royaltyper/100),0) + IFNULL(SUM(T.advance*TA.royaltyper/100),0) AS PROFIT\n",
    "FROM\n",
    "    `ironhack-data-analytics-265219.publications.authors` A \n",
    "LEFT JOIN\n",
    "    `ironhack-data-analytics-265219.publications.titleauthor` TA \n",
    "ON \n",
    "    A.au_id=TA.au_id\n",
    "LEFT JOIN \n",
    "    `ironhack-data-analytics-265219.publications.titles` T \n",
    "ON\n",
    "    TA.title_id=T.title_id\n",
    "LEFT JOIN    \n",
    "(\n",
    "    SELECT\n",
    "        TA.au_id, \n",
    "        TA.title_id, \n",
    "        IFNULL(SUM(T.price*S.qty*T.royalty/100),0) AS ROYALTYTA\n",
    "    FROM\n",
    "        `ironhack-data-analytics-265219.publications.titleauthor` TA \n",
    "    LEFT JOIN \n",
    "        `ironhack-data-analytics-265219.publications.titles` T \n",
    "    ON\n",
    "        TA.title_id=T.title_id\n",
    "    LEFT JOIN\n",
    "        `ironhack-data-analytics-265219.publications.sales` S\n",
    "    ON \n",
    "        T.title_id=S.title_id\n",
    "    GROUP BY\n",
    "        TA.au_id, \n",
    "        TA.title_id\n",
    ") R\n",
    "ON TA.au_id=R.au_id\n",
    "AND TA.title_id=R.title_id\n",
    "GROUP BY \n",
    "    A.au_id,\n",
    "    A.au_lname, \n",
    "    A.au_fname\n",
    "ORDER BY \n",
    "    PROFIT DESC\n",
    "LIMIT 3\n",
    "\"\"\""
   ]
  },
  {
   "cell_type": "code",
   "execution_count": 110,
   "metadata": {
    "ExecuteTime": {
     "end_time": "2020-01-25T01:49:59.324289Z",
     "start_time": "2020-01-25T01:49:56.684489Z"
    }
   },
   "outputs": [
    {
     "data": {
      "text/html": [
       "<div>\n",
       "<style scoped>\n",
       "    .dataframe tbody tr th:only-of-type {\n",
       "        vertical-align: middle;\n",
       "    }\n",
       "\n",
       "    .dataframe tbody tr th {\n",
       "        vertical-align: top;\n",
       "    }\n",
       "\n",
       "    .dataframe thead th {\n",
       "        text-align: right;\n",
       "    }\n",
       "</style>\n",
       "<table border=\"1\" class=\"dataframe\">\n",
       "  <thead>\n",
       "    <tr style=\"text-align: right;\">\n",
       "      <th></th>\n",
       "      <th>au_id</th>\n",
       "      <th>au_lname</th>\n",
       "      <th>au_fname</th>\n",
       "      <th>ROYALTY</th>\n",
       "      <th>ADVANCE</th>\n",
       "      <th>PROFIT</th>\n",
       "    </tr>\n",
       "  </thead>\n",
       "  <tbody>\n",
       "    <tr>\n",
       "      <th>0</th>\n",
       "      <td>213-46-8915</td>\n",
       "      <td>Green</td>\n",
       "      <td>Marjorie</td>\n",
       "      <td>37.110</td>\n",
       "      <td>12125.0</td>\n",
       "      <td>12162.110</td>\n",
       "    </tr>\n",
       "    <tr>\n",
       "      <th>1</th>\n",
       "      <td>722-51-5454</td>\n",
       "      <td>DeFrance</td>\n",
       "      <td>Michel</td>\n",
       "      <td>21.528</td>\n",
       "      <td>11250.0</td>\n",
       "      <td>11271.528</td>\n",
       "    </tr>\n",
       "    <tr>\n",
       "      <th>2</th>\n",
       "      <td>998-72-3567</td>\n",
       "      <td>Ringer</td>\n",
       "      <td>Albert</td>\n",
       "      <td>88.456</td>\n",
       "      <td>7137.5</td>\n",
       "      <td>7225.956</td>\n",
       "    </tr>\n",
       "  </tbody>\n",
       "</table>\n",
       "</div>"
      ],
      "text/plain": [
       "         au_id  au_lname  au_fname  ROYALTY  ADVANCE     PROFIT\n",
       "0  213-46-8915     Green  Marjorie   37.110  12125.0  12162.110\n",
       "1  722-51-5454  DeFrance    Michel   21.528  11250.0  11271.528\n",
       "2  998-72-3567    Ringer    Albert   88.456   7137.5   7225.956"
      ]
     },
     "execution_count": 110,
     "metadata": {},
     "output_type": "execute_result"
    }
   ],
   "source": [
    "query_job = client.query(query=sql)\n",
    "df=query_job.to_dataframe()\n",
    "df.head(70)"
   ]
  },
  {
   "cell_type": "markdown",
   "metadata": {},
   "source": [
    "# Challenge 2"
   ]
  },
  {
   "cell_type": "code",
   "execution_count": 115,
   "metadata": {
    "ExecuteTime": {
     "end_time": "2020-01-25T01:56:53.798275Z",
     "start_time": "2020-01-25T01:56:53.790519Z"
    }
   },
   "outputs": [],
   "source": [
    "sql=\"\"\"\n",
    "CREATE TABLE publications.most_profiting_authors AS\n",
    "SELECT\n",
    "    A.au_id,\n",
    "    IFNULL(SUM(ROYALTYTA*TA.royaltyper/100),0) + IFNULL(SUM(T.advance*TA.royaltyper/100),0) AS PROFIT\n",
    "FROM\n",
    "    `ironhack-data-analytics-265219.publications.authors` A \n",
    "LEFT JOIN\n",
    "    `ironhack-data-analytics-265219.publications.titleauthor` TA \n",
    "ON \n",
    "    A.au_id=TA.au_id\n",
    "LEFT JOIN \n",
    "    `ironhack-data-analytics-265219.publications.titles` T \n",
    "ON\n",
    "    TA.title_id=T.title_id\n",
    "LEFT JOIN    \n",
    "(\n",
    "    SELECT\n",
    "        TA.au_id, \n",
    "        TA.title_id, \n",
    "        IFNULL(SUM(T.price*S.qty*T.royalty/100),0) AS ROYALTYTA\n",
    "    FROM\n",
    "        `ironhack-data-analytics-265219.publications.titleauthor` TA \n",
    "    LEFT JOIN \n",
    "        `ironhack-data-analytics-265219.publications.titles` T \n",
    "    ON\n",
    "        TA.title_id=T.title_id\n",
    "    LEFT JOIN\n",
    "        `ironhack-data-analytics-265219.publications.sales` S\n",
    "    ON \n",
    "        T.title_id=S.title_id\n",
    "    GROUP BY\n",
    "        TA.au_id, \n",
    "        TA.title_id\n",
    ") R\n",
    "ON TA.au_id=R.au_id\n",
    "AND TA.title_id=R.title_id\n",
    "GROUP BY \n",
    "    A.au_id\n",
    "ORDER BY \n",
    "    PROFIT DESC\n",
    "LIMIT 3\n",
    "\"\"\""
   ]
  },
  {
   "cell_type": "code",
   "execution_count": 116,
   "metadata": {
    "ExecuteTime": {
     "end_time": "2020-01-25T01:56:57.612518Z",
     "start_time": "2020-01-25T01:56:54.698855Z"
    }
   },
   "outputs": [
    {
     "data": {
      "text/html": [
       "<div>\n",
       "<style scoped>\n",
       "    .dataframe tbody tr th:only-of-type {\n",
       "        vertical-align: middle;\n",
       "    }\n",
       "\n",
       "    .dataframe tbody tr th {\n",
       "        vertical-align: top;\n",
       "    }\n",
       "\n",
       "    .dataframe thead th {\n",
       "        text-align: right;\n",
       "    }\n",
       "</style>\n",
       "<table border=\"1\" class=\"dataframe\">\n",
       "  <thead>\n",
       "    <tr style=\"text-align: right;\">\n",
       "      <th></th>\n",
       "    </tr>\n",
       "  </thead>\n",
       "  <tbody>\n",
       "  </tbody>\n",
       "</table>\n",
       "</div>"
      ],
      "text/plain": [
       "Empty DataFrame\n",
       "Columns: []\n",
       "Index: []"
      ]
     },
     "execution_count": 116,
     "metadata": {},
     "output_type": "execute_result"
    }
   ],
   "source": [
    "query_job = client.query(query=sql)\n",
    "df=query_job.to_dataframe()\n",
    "df.head(70)"
   ]
  },
  {
   "cell_type": "code",
   "execution_count": null,
   "metadata": {},
   "outputs": [],
   "source": []
  }
 ],
 "metadata": {
  "kernelspec": {
   "display_name": "Python 3",
   "language": "python",
   "name": "python3"
  },
  "language_info": {
   "codemirror_mode": {
    "name": "ipython",
    "version": 3
   },
   "file_extension": ".py",
   "mimetype": "text/x-python",
   "name": "python",
   "nbconvert_exporter": "python",
   "pygments_lexer": "ipython3",
   "version": "3.7.1"
  },
  "latex_envs": {
   "LaTeX_envs_menu_present": true,
   "autoclose": false,
   "autocomplete": true,
   "bibliofile": "biblio.bib",
   "cite_by": "apalike",
   "current_citInitial": 1,
   "eqLabelWithNumbers": true,
   "eqNumInitial": 1,
   "hotkeys": {
    "equation": "Ctrl-E",
    "itemize": "Ctrl-I"
   },
   "labels_anchors": false,
   "latex_user_defs": false,
   "report_style_numbering": false,
   "user_envs_cfg": false
  },
  "toc": {
   "base_numbering": 1,
   "nav_menu": {},
   "number_sections": true,
   "sideBar": true,
   "skip_h1_title": false,
   "title_cell": "Table of Contents",
   "title_sidebar": "Contents",
   "toc_cell": false,
   "toc_position": {},
   "toc_section_display": true,
   "toc_window_display": false
  },
  "varInspector": {
   "cols": {
    "lenName": 16,
    "lenType": 16,
    "lenVar": 40
   },
   "kernels_config": {
    "python": {
     "delete_cmd_postfix": "",
     "delete_cmd_prefix": "del ",
     "library": "var_list.py",
     "varRefreshCmd": "print(var_dic_list())"
    },
    "r": {
     "delete_cmd_postfix": ") ",
     "delete_cmd_prefix": "rm(",
     "library": "var_list.r",
     "varRefreshCmd": "cat(var_dic_list()) "
    }
   },
   "types_to_exclude": [
    "module",
    "function",
    "builtin_function_or_method",
    "instance",
    "_Feature"
   ],
   "window_display": false
  }
 },
 "nbformat": 4,
 "nbformat_minor": 2
}
